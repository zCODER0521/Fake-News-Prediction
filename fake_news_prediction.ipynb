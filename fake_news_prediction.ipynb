{
 "cells": [
  {
   "cell_type": "code",
   "execution_count": 2,
   "metadata": {
    "collapsed": true,
    "id": "5QsnoWTdU1ex",
    "jupyter": {
     "outputs_hidden": true
    },
    "scrolled": true
   },
   "outputs": [
    {
     "name": "stdout",
     "output_type": "stream",
     "text": [
      "Collecting pandas\n",
      "  Downloading pandas-2.2.3-cp312-cp312-win_amd64.whl.metadata (19 kB)\n",
      "Requirement already satisfied: numpy>=1.26.0 in c:\\users\\nidhi\\onedrive\\python\\.venv\\lib\\site-packages (from pandas) (2.1.3)\n",
      "Requirement already satisfied: python-dateutil>=2.8.2 in c:\\users\\nidhi\\onedrive\\python\\.venv\\lib\\site-packages (from pandas) (2.9.0.post0)\n",
      "Collecting pytz>=2020.1 (from pandas)\n",
      "  Downloading pytz-2025.2-py2.py3-none-any.whl.metadata (22 kB)\n",
      "Collecting tzdata>=2022.7 (from pandas)\n",
      "  Downloading tzdata-2025.2-py2.py3-none-any.whl.metadata (1.4 kB)\n",
      "Requirement already satisfied: six>=1.5 in c:\\users\\nidhi\\onedrive\\python\\.venv\\lib\\site-packages (from python-dateutil>=2.8.2->pandas) (1.17.0)\n",
      "Downloading pandas-2.2.3-cp312-cp312-win_amd64.whl (11.5 MB)\n",
      "   ---------------------------------------- 0.0/11.5 MB ? eta -:--:--\n",
      "   -- ------------------------------------- 0.8/11.5 MB 5.6 MB/s eta 0:00:02\n",
      "   -------- ------------------------------- 2.4/11.5 MB 7.1 MB/s eta 0:00:02\n",
      "   ----------- ---------------------------- 3.4/11.5 MB 7.2 MB/s eta 0:00:02\n",
      "   ----------------- ---------------------- 5.0/11.5 MB 6.9 MB/s eta 0:00:01\n",
      "   ---------------------- ----------------- 6.6/11.5 MB 6.8 MB/s eta 0:00:01\n",
      "   --------------------------- ------------ 7.9/11.5 MB 7.0 MB/s eta 0:00:01\n",
      "   ------------------------------ --------- 8.7/11.5 MB 6.3 MB/s eta 0:00:01\n",
      "   ------------------------------- -------- 9.2/11.5 MB 6.0 MB/s eta 0:00:01\n",
      "   -------------------------------- ------- 9.4/11.5 MB 5.5 MB/s eta 0:00:01\n",
      "   ---------------------------------- ----- 10.0/11.5 MB 5.1 MB/s eta 0:00:01\n",
      "   ----------------------------------- ---- 10.2/11.5 MB 4.7 MB/s eta 0:00:01\n",
      "   ------------------------------------ --- 10.5/11.5 MB 4.5 MB/s eta 0:00:01\n",
      "   ------------------------------------ --- 10.5/11.5 MB 4.5 MB/s eta 0:00:01\n",
      "   ------------------------------------- -- 10.7/11.5 MB 4.0 MB/s eta 0:00:01\n",
      "   ------------------------------------- -- 10.7/11.5 MB 4.0 MB/s eta 0:00:01\n",
      "   ------------------------------------- -- 10.7/11.5 MB 4.0 MB/s eta 0:00:01\n",
      "   -------------------------------------- - 11.0/11.5 MB 3.2 MB/s eta 0:00:01\n",
      "   -------------------------------------- - 11.0/11.5 MB 3.2 MB/s eta 0:00:01\n",
      "   -------------------------------------- - 11.0/11.5 MB 3.2 MB/s eta 0:00:01\n",
      "   -------------------------------------- - 11.0/11.5 MB 3.2 MB/s eta 0:00:01\n",
      "   -------------------------------------- - 11.0/11.5 MB 3.2 MB/s eta 0:00:01\n",
      "   -------------------------------------- - 11.0/11.5 MB 3.2 MB/s eta 0:00:01\n",
      "   -------------------------------------- - 11.0/11.5 MB 3.2 MB/s eta 0:00:01\n",
      "   ---------------------------------------  11.3/11.5 MB 2.3 MB/s eta 0:00:01\n",
      "   ---------------------------------------  11.3/11.5 MB 2.3 MB/s eta 0:00:01\n",
      "   ---------------------------------------- 11.5/11.5 MB 2.2 MB/s eta 0:00:00\n",
      "Downloading pytz-2025.2-py2.py3-none-any.whl (509 kB)\n",
      "Downloading tzdata-2025.2-py2.py3-none-any.whl (347 kB)\n",
      "Installing collected packages: pytz, tzdata, pandas\n",
      "Successfully installed pandas-2.2.3 pytz-2025.2 tzdata-2025.2\n"
     ]
    }
   ],
   "source": [
    "!pip install pandas  "
   ]
  },
  {
   "cell_type": "code",
   "execution_count": 4,
   "metadata": {
    "collapsed": true,
    "jupyter": {
     "outputs_hidden": true
    }
   },
   "outputs": [
    {
     "name": "stdout",
     "output_type": "stream",
     "text": [
      "Collecting nltk\n",
      "  Downloading nltk-3.9.1-py3-none-any.whl.metadata (2.9 kB)\n",
      "Collecting scikit-learn\n",
      "  Downloading scikit_learn-1.6.1-cp312-cp312-win_amd64.whl.metadata (15 kB)\n",
      "Collecting click (from nltk)\n",
      "  Downloading click-8.1.8-py3-none-any.whl.metadata (2.3 kB)\n",
      "Collecting joblib (from nltk)\n",
      "  Downloading joblib-1.4.2-py3-none-any.whl.metadata (5.4 kB)\n",
      "Collecting regex>=2021.8.3 (from nltk)\n",
      "  Downloading regex-2024.11.6-cp312-cp312-win_amd64.whl.metadata (41 kB)\n",
      "Requirement already satisfied: tqdm in c:\\users\\nidhi\\onedrive\\python\\.venv\\lib\\site-packages (from nltk) (4.67.1)\n",
      "Requirement already satisfied: numpy>=1.19.5 in c:\\users\\nidhi\\onedrive\\python\\.venv\\lib\\site-packages (from scikit-learn) (2.1.3)\n",
      "Collecting scipy>=1.6.0 (from scikit-learn)\n",
      "  Downloading scipy-1.15.2-cp312-cp312-win_amd64.whl.metadata (60 kB)\n",
      "Collecting threadpoolctl>=3.1.0 (from scikit-learn)\n",
      "  Downloading threadpoolctl-3.6.0-py3-none-any.whl.metadata (13 kB)\n",
      "Requirement already satisfied: colorama in c:\\users\\nidhi\\onedrive\\python\\.venv\\lib\\site-packages (from click->nltk) (0.4.6)\n",
      "Downloading nltk-3.9.1-py3-none-any.whl (1.5 MB)\n",
      "   ---------------------------------------- 0.0/1.5 MB ? eta -:--:--\n",
      "   ------------- -------------------------- 0.5/1.5 MB 4.2 MB/s eta 0:00:01\n",
      "   ---------------------------------- ----- 1.3/1.5 MB 5.6 MB/s eta 0:00:01\n",
      "   ---------------------------------------- 1.5/1.5 MB 3.3 MB/s eta 0:00:00\n",
      "Downloading scikit_learn-1.6.1-cp312-cp312-win_amd64.whl (11.1 MB)\n",
      "   ---------------------------------------- 0.0/11.1 MB ? eta -:--:--\n",
      "   ----- ---------------------------------- 1.6/11.1 MB 7.0 MB/s eta 0:00:02\n",
      "   ---------- ----------------------------- 2.9/11.1 MB 6.7 MB/s eta 0:00:02\n",
      "   ---------------- ----------------------- 4.7/11.1 MB 7.5 MB/s eta 0:00:01\n",
      "   --------------------- ------------------ 6.0/11.1 MB 7.2 MB/s eta 0:00:01\n",
      "   --------------------- ------------------ 6.0/11.1 MB 7.2 MB/s eta 0:00:01\n",
      "   ------------------------------- -------- 8.7/11.1 MB 6.9 MB/s eta 0:00:01\n",
      "   ----------------------------------- ---- 10.0/11.1 MB 6.7 MB/s eta 0:00:01\n",
      "   ------------------------------------- -- 10.5/11.1 MB 6.2 MB/s eta 0:00:01\n",
      "   ---------------------------------------  11.0/11.1 MB 6.4 MB/s eta 0:00:01\n",
      "   ---------------------------------------  11.0/11.1 MB 6.4 MB/s eta 0:00:01\n",
      "   ---------------------------------------  11.0/11.1 MB 6.4 MB/s eta 0:00:01\n",
      "   ---------------------------------------  11.0/11.1 MB 6.4 MB/s eta 0:00:01\n",
      "   ---------------------------------------  11.0/11.1 MB 6.4 MB/s eta 0:00:01\n",
      "   ---------------------------------------- 11.1/11.1 MB 3.6 MB/s eta 0:00:00\n",
      "Downloading joblib-1.4.2-py3-none-any.whl (301 kB)\n",
      "Downloading regex-2024.11.6-cp312-cp312-win_amd64.whl (273 kB)\n",
      "Downloading scipy-1.15.2-cp312-cp312-win_amd64.whl (40.9 MB)\n",
      "   ---------------------------------------- 0.0/40.9 MB ? eta -:--:--\n",
      "   - -------------------------------------- 1.0/40.9 MB 7.2 MB/s eta 0:00:06\n",
      "   --- ------------------------------------ 3.1/40.9 MB 7.7 MB/s eta 0:00:05\n",
      "   ---- ----------------------------------- 4.7/40.9 MB 7.5 MB/s eta 0:00:05\n",
      "   ----- ---------------------------------- 5.2/40.9 MB 7.4 MB/s eta 0:00:05\n",
      "   ------ --------------------------------- 7.1/40.9 MB 6.9 MB/s eta 0:00:05\n",
      "   ------- -------------------------------- 8.1/40.9 MB 6.8 MB/s eta 0:00:05\n",
      "   -------- ------------------------------- 8.9/40.9 MB 6.6 MB/s eta 0:00:05\n",
      "   ---------- ----------------------------- 10.7/40.9 MB 6.6 MB/s eta 0:00:05\n",
      "   ----------- ---------------------------- 12.1/40.9 MB 6.6 MB/s eta 0:00:05\n",
      "   ----------- ---------------------------- 12.1/40.9 MB 6.6 MB/s eta 0:00:05\n",
      "   -------------- ------------------------- 14.4/40.9 MB 6.5 MB/s eta 0:00:05\n",
      "   --------------- ------------------------ 15.5/40.9 MB 6.4 MB/s eta 0:00:04\n",
      "   ---------------- ----------------------- 16.5/40.9 MB 6.5 MB/s eta 0:00:04\n",
      "   ----------------- ---------------------- 18.1/40.9 MB 6.4 MB/s eta 0:00:04\n",
      "   ------------------ --------------------- 19.4/40.9 MB 6.4 MB/s eta 0:00:04\n",
      "   -------------------- ------------------- 21.0/40.9 MB 6.4 MB/s eta 0:00:04\n",
      "   --------------------- ------------------ 21.5/40.9 MB 6.1 MB/s eta 0:00:04\n",
      "   ----------------------- ---------------- 23.6/40.9 MB 6.4 MB/s eta 0:00:03\n",
      "   ------------------------ --------------- 25.2/40.9 MB 6.4 MB/s eta 0:00:03\n",
      "   ------------------------- -------------- 25.7/40.9 MB 6.4 MB/s eta 0:00:03\n",
      "   --------------------------- ------------ 27.8/40.9 MB 6.4 MB/s eta 0:00:03\n",
      "   ---------------------------- ----------- 29.1/40.9 MB 6.5 MB/s eta 0:00:02\n",
      "   ---------------------------- ----------- 29.4/40.9 MB 6.2 MB/s eta 0:00:02\n",
      "   ----------------------------- ---------- 30.7/40.9 MB 6.2 MB/s eta 0:00:02\n",
      "   -------------------------------- ------- 32.8/40.9 MB 6.3 MB/s eta 0:00:02\n",
      "   --------------------------------- ------ 34.1/40.9 MB 6.4 MB/s eta 0:00:02\n",
      "   ---------------------------------- ----- 35.4/40.9 MB 6.4 MB/s eta 0:00:01\n",
      "   ---------------------------------- ----- 35.7/40.9 MB 6.4 MB/s eta 0:00:01\n",
      "   ---------------------------------- ----- 35.7/40.9 MB 6.4 MB/s eta 0:00:01\n",
      "   ---------------------------------- ----- 35.7/40.9 MB 6.4 MB/s eta 0:00:01\n",
      "   ---------------------------------- ----- 35.7/40.9 MB 6.4 MB/s eta 0:00:01\n",
      "   ------------------------------------ --- 37.2/40.9 MB 5.6 MB/s eta 0:00:01\n",
      "   ------------------------------------- -- 38.8/40.9 MB 5.7 MB/s eta 0:00:01\n",
      "   ---------------------------------------  40.4/40.9 MB 5.8 MB/s eta 0:00:01\n",
      "   ---------------------------------------  40.9/40.9 MB 5.6 MB/s eta 0:00:01\n",
      "   ---------------------------------------  40.9/40.9 MB 5.6 MB/s eta 0:00:01\n",
      "   ---------------------------------------  40.9/40.9 MB 5.6 MB/s eta 0:00:01\n",
      "   ---------------------------------------  40.9/40.9 MB 5.6 MB/s eta 0:00:01\n",
      "   ---------------------------------------  40.9/40.9 MB 5.6 MB/s eta 0:00:01\n",
      "   ---------------------------------------  40.9/40.9 MB 5.6 MB/s eta 0:00:01\n",
      "   ---------------------------------------  40.9/40.9 MB 5.6 MB/s eta 0:00:01\n",
      "   ---------------------------------------  40.9/40.9 MB 5.6 MB/s eta 0:00:01\n",
      "   ---------------------------------------  40.9/40.9 MB 5.6 MB/s eta 0:00:01\n",
      "   ---------------------------------------  40.9/40.9 MB 5.6 MB/s eta 0:00:01\n",
      "   ---------------------------------------  40.9/40.9 MB 5.6 MB/s eta 0:00:01\n",
      "   ---------------------------------------  40.9/40.9 MB 5.6 MB/s eta 0:00:01\n",
      "   ---------------------------------------  40.9/40.9 MB 5.6 MB/s eta 0:00:01\n",
      "   ---------------------------------------- 40.9/40.9 MB 4.1 MB/s eta 0:00:00\n",
      "Downloading threadpoolctl-3.6.0-py3-none-any.whl (18 kB)\n",
      "Downloading click-8.1.8-py3-none-any.whl (98 kB)\n",
      "Installing collected packages: threadpoolctl, scipy, regex, joblib, click, scikit-learn, nltk\n",
      "Successfully installed click-8.1.8 joblib-1.4.2 nltk-3.9.1 regex-2024.11.6 scikit-learn-1.6.1 scipy-1.15.2 threadpoolctl-3.6.0\n"
     ]
    }
   ],
   "source": [
    "!pip install nltk scikit-learn \n"
   ]
  },
  {
   "cell_type": "code",
   "execution_count": 5,
   "metadata": {
    "id": "5QsnoWTdU1ex",
    "scrolled": true
   },
   "outputs": [],
   "source": [
    "import numpy as np \n",
    "import pandas as pd\n",
    "import re \n",
    "from nltk.corpus import stopwords\n",
    "from nltk.stem.porter import PorterStemmer \n",
    "from sklearn.feature_extraction.text import TfidfVectorizer \n",
    "from sklearn.model_selection import train_test_split\n",
    "from sklearn.linear_model import LogisticRegression  \n",
    "from sklearn.metrics import accuracy_score"
   ]
  },
  {
   "cell_type": "code",
   "execution_count": 6,
   "metadata": {
    "colab": {
     "base_uri": "https://localhost:8080/"
    },
    "id": "hRZUqK4DPKPV",
    "outputId": "3d077f0f-845b-414b-8206-3bb7d8d24520"
   },
   "outputs": [
    {
     "name": "stderr",
     "output_type": "stream",
     "text": [
      "[nltk_data] Downloading package stopwords to\n",
      "[nltk_data]     C:\\Users\\nidhi\\AppData\\Roaming\\nltk_data...\n",
      "[nltk_data]   Unzipping corpora\\stopwords.zip.\n"
     ]
    },
    {
     "data": {
      "text/plain": [
       "True"
      ]
     },
     "execution_count": 6,
     "metadata": {},
     "output_type": "execute_result"
    }
   ],
   "source": [
    "import nltk\n",
    "nltk.download('stopwords') "
   ]
  },
  {
   "cell_type": "code",
   "execution_count": 7,
   "metadata": {
    "colab": {
     "base_uri": "https://localhost:8080/"
    },
    "collapsed": true,
    "id": "rpeo23tbgjMb",
    "jupyter": {
     "outputs_hidden": true
    },
    "outputId": "e987f549-d27c-42db-a036-5bed01fa0844"
   },
   "outputs": [
    {
     "name": "stdout",
     "output_type": "stream",
     "text": [
      "{'and', 'up', 'down', \"wouldn't\", \"shouldn't\", 've', \"couldn't\", 'once', 'how', \"you've\", 'having', \"she'll\", \"it'd\", 'o', \"it's\", \"they've\", 'mightn', \"doesn't\", 'to', 'an', 'further', 'aren', 'hasn', 'those', \"weren't\", 'each', \"hadn't\", \"it'll\", 'they', \"i'm\", 'too', 'has', 'now', 'such', 'about', 'won', \"i've\", 'was', 'should', 'been', 'but', \"that'll\", 'am', \"shan't\", 'a', 'ain', 'any', 'out', 'are', 'same', 'doesn', \"don't\", 'where', 'my', 'only', 'own', 'both', 'that', \"we've\", \"i'll\", 'does', \"you'll\", 'by', 'himself', 'off', \"wasn't\", 'their', 'very', 'why', \"they'll\", \"should've\", 'the', 'will', 'don', 'until', 'we', \"you'd\", 'll', 'i', 'ma', 'more', 'above', 'being', \"aren't\", 'shan', 'just', 'under', 'yourselves', 'have', \"we'd\", \"we'll\", \"we're\", \"haven't\", 'his', 'nor', 'your', 's', 'hers', 'again', 'these', 'against', 'he', 'it', 'did', 'in', 'weren', 'some', 'here', 'into', 't', 'while', 'or', 'whom', 'do', 're', 'from', 'if', 'not', \"won't\", 'between', \"you're\", 'few', \"mightn't\", 'with', 'for', 'm', 'haven', 'theirs', 'me', 'during', 'you', 'as', \"they're\", 'of', 'who', 'd', 'yours', 'myself', 'no', 'ours', 'themselves', 'her', 'this', \"needn't\", 'yourself', 'after', 'before', 'other', \"he'd\", 'herself', 'when', 'most', 'our', \"he's\", 'isn', 'needn', 'had', 'which', 'hadn', \"hasn't\", \"isn't\", 'than', 'is', \"mustn't\", 'shouldn', 'wouldn', 'so', 'couldn', 'were', \"she'd\", 'can', \"they'd\", 'y', 'through', 'wasn', 'him', \"he'll\", 'she', 'because', \"she's\", 'then', 'ourselves', 'all', 'them', 'what', 'below', 'its', 'itself', 'on', 'be', \"i'd\", 'there', 'didn', 'mustn', \"didn't\", 'at', 'over', 'doing'}\n"
     ]
    }
   ],
   "source": [
    "stop_words = set(stopwords.words('english')) \n",
    "print(stop_words) "
   ]
  },
  {
   "cell_type": "markdown",
   "metadata": {
    "id": "6kHsynjlQDd1"
   },
   "source": [
    "DATA PREPROCESSING  "
   ]
  },
  {
   "cell_type": "code",
   "execution_count": 9,
   "metadata": {
    "id": "ootnlaQ6P7bB"
   },
   "outputs": [],
   "source": [
    "#loading data\n",
    "news_dataset=pd.read_csv('train.csv')   "
   ]
  },
  {
   "cell_type": "code",
   "execution_count": 10,
   "metadata": {
    "colab": {
     "base_uri": "https://localhost:8080/"
    },
    "id": "cYOfyhwEScMO",
    "outputId": "19b0b59e-0be9-4d66-a7cd-174d77665789"
   },
   "outputs": [
    {
     "data": {
      "text/plain": [
       "(20800, 5)"
      ]
     },
     "execution_count": 10,
     "metadata": {},
     "output_type": "execute_result"
    }
   ],
   "source": [
    "news_dataset.shape"
   ]
  },
  {
   "cell_type": "code",
   "execution_count": 11,
   "metadata": {
    "colab": {
     "base_uri": "https://localhost:8080/",
     "height": 241
    },
    "id": "ysq85HjaSyIU",
    "outputId": "e9122d2f-d51f-4d87-9d64-6e7e6f72a8dc"
   },
   "outputs": [
    {
     "data": {
      "text/plain": [
       "id           0\n",
       "title      558\n",
       "author    1957\n",
       "text        39\n",
       "label        0\n",
       "dtype: int64"
      ]
     },
     "execution_count": 11,
     "metadata": {},
     "output_type": "execute_result"
    }
   ],
   "source": [
    "news_dataset.isnull().sum()"
   ]
  },
  {
   "cell_type": "code",
   "execution_count": 12,
   "metadata": {
    "id": "vfmVbb0SUHIF"
   },
   "outputs": [],
   "source": [
    "news_dataset=news_dataset.fillna('')"
   ]
  },
  {
   "cell_type": "code",
   "execution_count": 13,
   "metadata": {
    "id": "x9hrnjPIUpyk"
   },
   "outputs": [],
   "source": [
    "news_dataset['content']= news_dataset['author'] + ' ' + news_dataset['title']"
   ]
  },
  {
   "cell_type": "code",
   "execution_count": 14,
   "metadata": {
    "colab": {
     "base_uri": "https://localhost:8080/"
    },
    "collapsed": true,
    "id": "6j-9vMawVgFf",
    "jupyter": {
     "outputs_hidden": true
    },
    "outputId": "c9dfe893-781c-4d5f-c0a4-3fc075bfea7a"
   },
   "outputs": [
    {
     "name": "stdout",
     "output_type": "stream",
     "text": [
      "0        Darrell Lucus House Dem Aide: We Didn’t Even S...\n",
      "1        Daniel J. Flynn FLYNN: Hillary Clinton, Big Wo...\n",
      "2        Consortiumnews.com Why the Truth Might Get You...\n",
      "3        Jessica Purkiss 15 Civilians Killed In Single ...\n",
      "4        Howard Portnoy Iranian woman jailed for fictio...\n",
      "                               ...                        \n",
      "20795    Jerome Hudson Rapper T.I.: Trump a ’Poster Chi...\n",
      "20796    Benjamin Hoffman N.F.L. Playoffs: Schedule, Ma...\n",
      "20797    Michael J. de la Merced and Rachel Abrams Macy...\n",
      "20798    Alex Ansary NATO, Russia To Hold Parallel Exer...\n",
      "20799              David Swanson What Keeps the F-35 Alive\n",
      "Name: content, Length: 20800, dtype: object\n"
     ]
    }
   ],
   "source": [
    "print(news_dataset['content'])"
   ]
  },
  {
   "cell_type": "code",
   "execution_count": 15,
   "metadata": {
    "id": "SY01okxvVk56"
   },
   "outputs": [],
   "source": [
    "X=news_dataset.drop(columns='label',axis=1)\n",
    "Y=news_dataset['label']"
   ]
  },
  {
   "cell_type": "code",
   "execution_count": 16,
   "metadata": {
    "colab": {
     "base_uri": "https://localhost:8080/"
    },
    "collapsed": true,
    "id": "_FZ50IodWZC1",
    "jupyter": {
     "outputs_hidden": true
    },
    "outputId": "1da5489b-e910-43a8-b22c-fca347df3fb1"
   },
   "outputs": [
    {
     "name": "stdout",
     "output_type": "stream",
     "text": [
      "          id                                              title  \\\n",
      "0          0  House Dem Aide: We Didn’t Even See Comey’s Let...   \n",
      "1          1  FLYNN: Hillary Clinton, Big Woman on Campus - ...   \n",
      "2          2                  Why the Truth Might Get You Fired   \n",
      "3          3  15 Civilians Killed In Single US Airstrike Hav...   \n",
      "4          4  Iranian woman jailed for fictional unpublished...   \n",
      "...      ...                                                ...   \n",
      "20795  20795  Rapper T.I.: Trump a ’Poster Child For White S...   \n",
      "20796  20796  N.F.L. Playoffs: Schedule, Matchups and Odds -...   \n",
      "20797  20797  Macy’s Is Said to Receive Takeover Approach by...   \n",
      "20798  20798  NATO, Russia To Hold Parallel Exercises In Bal...   \n",
      "20799  20799                          What Keeps the F-35 Alive   \n",
      "\n",
      "                                          author  \\\n",
      "0                                  Darrell Lucus   \n",
      "1                                Daniel J. Flynn   \n",
      "2                             Consortiumnews.com   \n",
      "3                                Jessica Purkiss   \n",
      "4                                 Howard Portnoy   \n",
      "...                                          ...   \n",
      "20795                              Jerome Hudson   \n",
      "20796                           Benjamin Hoffman   \n",
      "20797  Michael J. de la Merced and Rachel Abrams   \n",
      "20798                                Alex Ansary   \n",
      "20799                              David Swanson   \n",
      "\n",
      "                                                    text  \\\n",
      "0      House Dem Aide: We Didn’t Even See Comey’s Let...   \n",
      "1      Ever get the feeling your life circles the rou...   \n",
      "2      Why the Truth Might Get You Fired October 29, ...   \n",
      "3      Videos 15 Civilians Killed In Single US Airstr...   \n",
      "4      Print \\nAn Iranian woman has been sentenced to...   \n",
      "...                                                  ...   \n",
      "20795  Rapper T. I. unloaded on black celebrities who...   \n",
      "20796  When the Green Bay Packers lost to the Washing...   \n",
      "20797  The Macy’s of today grew from the union of sev...   \n",
      "20798  NATO, Russia To Hold Parallel Exercises In Bal...   \n",
      "20799    David Swanson is an author, activist, journa...   \n",
      "\n",
      "                                                 content  \n",
      "0      Darrell Lucus House Dem Aide: We Didn’t Even S...  \n",
      "1      Daniel J. Flynn FLYNN: Hillary Clinton, Big Wo...  \n",
      "2      Consortiumnews.com Why the Truth Might Get You...  \n",
      "3      Jessica Purkiss 15 Civilians Killed In Single ...  \n",
      "4      Howard Portnoy Iranian woman jailed for fictio...  \n",
      "...                                                  ...  \n",
      "20795  Jerome Hudson Rapper T.I.: Trump a ’Poster Chi...  \n",
      "20796  Benjamin Hoffman N.F.L. Playoffs: Schedule, Ma...  \n",
      "20797  Michael J. de la Merced and Rachel Abrams Macy...  \n",
      "20798  Alex Ansary NATO, Russia To Hold Parallel Exer...  \n",
      "20799            David Swanson What Keeps the F-35 Alive  \n",
      "\n",
      "[20800 rows x 5 columns]\n",
      "0        1\n",
      "1        0\n",
      "2        1\n",
      "3        1\n",
      "4        1\n",
      "        ..\n",
      "20795    0\n",
      "20796    0\n",
      "20797    0\n",
      "20798    1\n",
      "20799    1\n",
      "Name: label, Length: 20800, dtype: int64\n"
     ]
    }
   ],
   "source": [
    "print(X)\n",
    "print(Y)"
   ]
  },
  {
   "cell_type": "code",
   "execution_count": 17,
   "metadata": {
    "id": "KnUt6LBMWw28"
   },
   "outputs": [],
   "source": [
    "stemmer = PorterStemmer()"
   ]
  },
  {
   "cell_type": "code",
   "execution_count": 18,
   "metadata": {
    "id": "JmKdfWE7ZbGs"
   },
   "outputs": [],
   "source": [
    "def stemming(content):\n",
    "  stemmed_content= re.sub('[^a-zA-Z)]',' ',content)\n",
    "  stemmed_content=stemmed_content.lower()\n",
    "  stemmed_content=stemmed_content.split()\n",
    "  stemmed_content= [stemmer.stem(word) for word in stemmed_content if not word in stopwords.words('english')]\n",
    "  stemmed_content=' '.join(stemmed_content)\n",
    "  return stemmed_content\n"
   ]
  },
  {
   "cell_type": "code",
   "execution_count": 19,
   "metadata": {
    "id": "uzQrUblVcALz"
   },
   "outputs": [],
   "source": [
    "news_dataset['content']=news_dataset['content'].apply(stemming) "
   ]
  },
  {
   "cell_type": "code",
   "execution_count": 20,
   "metadata": {
    "colab": {
     "base_uri": "https://localhost:8080/"
    },
    "collapsed": true,
    "id": "ejhE16p6cvmk",
    "jupyter": {
     "outputs_hidden": true
    },
    "outputId": "e1d1af4b-b7ef-4c71-9c04-8b3fef53a34c"
   },
   "outputs": [
    {
     "name": "stdout",
     "output_type": "stream",
     "text": [
      "0        darrel lucu hous dem aid even see comey letter...\n",
      "1        daniel j flynn flynn hillari clinton big woman...\n",
      "2                   consortiumnew com truth might get fire\n",
      "3        jessica purkiss civilian kill singl us airstri...\n",
      "4        howard portnoy iranian woman jail fiction unpu...\n",
      "                               ...                        \n",
      "20795    jerom hudson rapper trump poster child white s...\n",
      "20796    benjamin hoffman n f l playoff schedul matchup...\n",
      "20797    michael j de la merc rachel abram maci said re...\n",
      "20798    alex ansari nato russia hold parallel exercis ...\n",
      "20799                            david swanson keep f aliv\n",
      "Name: content, Length: 20800, dtype: object\n"
     ]
    }
   ],
   "source": [
    "print(news_dataset['content'])"
   ]
  },
  {
   "cell_type": "code",
   "execution_count": 21,
   "metadata": {
    "id": "-hhgnTzPe5HK"
   },
   "outputs": [],
   "source": [
    "X=news_dataset['content'].values  \n",
    "Y=news_dataset['label'].values"
   ]
  },
  {
   "cell_type": "code",
   "execution_count": 22,
   "metadata": {
    "colab": {
     "base_uri": "https://localhost:8080/"
    },
    "collapsed": true,
    "id": "NBT_TCVMfCKO",
    "jupyter": {
     "outputs_hidden": true
    },
    "outputId": "e9b12d3a-f75b-4abe-bc0c-ac236297a2b7"
   },
   "outputs": [
    {
     "name": "stdout",
     "output_type": "stream",
     "text": [
      "['darrel lucu hous dem aid even see comey letter jason chaffetz tweet'\n",
      " 'daniel j flynn flynn hillari clinton big woman campu breitbart'\n",
      " 'consortiumnew com truth might get fire' ...\n",
      " 'michael j de la merc rachel abram maci said receiv takeov approach hudson bay new york time'\n",
      " 'alex ansari nato russia hold parallel exercis balkan'\n",
      " 'david swanson keep f aliv']\n"
     ]
    }
   ],
   "source": [
    "print(X) "
   ]
  },
  {
   "cell_type": "code",
   "execution_count": 23,
   "metadata": {
    "colab": {
     "base_uri": "https://localhost:8080/"
    },
    "id": "h9aJHOZ1fUAr",
    "outputId": "c04bb743-55ff-42b3-bae5-0fad30f8567d"
   },
   "outputs": [
    {
     "name": "stdout",
     "output_type": "stream",
     "text": [
      "[1 0 1 ... 0 1 1]\n"
     ]
    }
   ],
   "source": [
    "print(Y)"
   ]
  },
  {
   "cell_type": "code",
   "execution_count": 24,
   "metadata": {
    "colab": {
     "base_uri": "https://localhost:8080/"
    },
    "id": "5ebFEpEkfYM4",
    "outputId": "958ff2f0-deaf-4d78-d7c0-5ad378108e0e"
   },
   "outputs": [
    {
     "data": {
      "text/plain": [
       "(20800,)"
      ]
     },
     "execution_count": 24,
     "metadata": {},
     "output_type": "execute_result"
    }
   ],
   "source": [
    "Y.shape"
   ]
  },
  {
   "cell_type": "code",
   "execution_count": 25,
   "metadata": {
    "id": "Me3aziIofkhu"
   },
   "outputs": [],
   "source": [
    "vectorizer=TfidfVectorizer()\n",
    "vectorizer.fit(X)\n",
    "X = vectorizer.transform(X)"
   ]
  },
  {
   "cell_type": "code",
   "execution_count": 26,
   "metadata": {
    "colab": {
     "base_uri": "https://localhost:8080/"
    },
    "collapsed": true,
    "id": "g10c8npiiUjT",
    "jupyter": {
     "outputs_hidden": true
    },
    "outputId": "34fdcffc-29ec-460a-ffe1-a59a348ada4f"
   },
   "outputs": [
    {
     "name": "stdout",
     "output_type": "stream",
     "text": [
      "<Compressed Sparse Row sparse matrix of dtype 'float64'\n",
      "\twith 210706 stored elements and shape (20800, 17197)>\n",
      "  Coords\tValues\n",
      "  (0, 271)\t0.26959221616379825\n",
      "  (0, 2490)\t0.3669590906933937\n",
      "  (0, 2967)\t0.2463798080128942\n",
      "  (0, 3610)\t0.35921566168360214\n",
      "  (0, 3804)\t0.27002340032597333\n",
      "  (0, 4989)\t0.23287725706422588\n",
      "  (0, 7030)\t0.21832944965670534\n",
      "  (0, 7724)\t0.2473850922274003\n",
      "  (0, 8665)\t0.2915746009669278\n",
      "  (0, 8946)\t0.3629111458194954\n",
      "  (0, 13528)\t0.2561060982875654\n",
      "  (0, 15748)\t0.2908607812199346\n",
      "  (1, 1503)\t0.29398692731459325\n",
      "  (1, 1900)\t0.15521856545652582\n",
      "  (1, 2230)\t0.3827291369820859\n",
      "  (1, 2821)\t0.19094429295801313\n",
      "  (1, 3578)\t0.2637356885187739\n",
      "  (1, 5523)\t0.7143245198400708\n",
      "  (1, 6840)\t0.19050437708106288\n",
      "  (1, 16868)\t0.30071517664925285\n",
      "  (2, 2951)\t0.3179886800654691\n",
      "  (2, 3112)\t0.46097489583229645\n",
      "  (2, 5409)\t0.3866530551182615\n",
      "  (2, 5990)\t0.3474613386728292\n",
      "  (2, 9660)\t0.49351492943649944\n",
      "  :\t:\n",
      "  (20797, 3654)\t0.2115550061362374\n",
      "  (20797, 7067)\t0.21799048897828685\n",
      "  (20797, 8396)\t0.22322585870464115\n",
      "  (20797, 9025)\t0.36160868928090795\n",
      "  (20797, 9558)\t0.29542040034203126\n",
      "  (20797, 9628)\t0.17455348025522197\n",
      "  (20797, 10348)\t0.08038079000566466\n",
      "  (20797, 12190)\t0.24778257724396505\n",
      "  (20797, 12398)\t0.27263457663336677\n",
      "  (20797, 13177)\t0.24825263521976057\n",
      "  (20797, 15027)\t0.3115945315488075\n",
      "  (20797, 15356)\t0.08159261204402356\n",
      "  (20797, 17065)\t0.08315655906109998\n",
      "  (20798, 354)\t0.2844693781907258\n",
      "  (20798, 592)\t0.3112141524638974\n",
      "  (20798, 1131)\t0.4460515589182237\n",
      "  (20798, 5050)\t0.40837014502395297\n",
      "  (20798, 6913)\t0.3249628569429943\n",
      "  (20798, 10219)\t0.31924963701870285\n",
      "  (20798, 11097)\t0.4460515589182237\n",
      "  (20798, 13101)\t0.2236326748827061\n",
      "  (20799, 381)\t0.5677577267055112\n",
      "  (20799, 3634)\t0.37927626273066584\n",
      "  (20799, 8068)\t0.45983893273780013\n",
      "  (20799, 14912)\t0.5677577267055112\n"
     ]
    }
   ],
   "source": [
    "print(X) "
   ]
  },
  {
   "cell_type": "code",
   "execution_count": 27,
   "metadata": {
    "id": "9FYM7DnKiXvf"
   },
   "outputs": [],
   "source": [
    "X_train, X_test, y_train, y_test = train_test_split(X, Y, test_size=0.2,stratify=Y,random_state=3) "
   ]
  },
  {
   "cell_type": "code",
   "execution_count": 28,
   "metadata": {
    "id": "mVYpdGbsjNfX"
   },
   "outputs": [],
   "source": [
    "model = LogisticRegression() "
   ]
  },
  {
   "cell_type": "code",
   "execution_count": 29,
   "metadata": {
    "colab": {
     "base_uri": "https://localhost:8080/",
     "height": 80
    },
    "collapsed": true,
    "id": "jLOZQSWwl03V",
    "jupyter": {
     "outputs_hidden": true
    },
    "outputId": "4fe5bf2f-8850-428d-c0e6-440b35494b36"
   },
   "outputs": [
    {
     "data": {
      "text/html": [
       "<style>#sk-container-id-1 {\n",
       "  /* Definition of color scheme common for light and dark mode */\n",
       "  --sklearn-color-text: #000;\n",
       "  --sklearn-color-text-muted: #666;\n",
       "  --sklearn-color-line: gray;\n",
       "  /* Definition of color scheme for unfitted estimators */\n",
       "  --sklearn-color-unfitted-level-0: #fff5e6;\n",
       "  --sklearn-color-unfitted-level-1: #f6e4d2;\n",
       "  --sklearn-color-unfitted-level-2: #ffe0b3;\n",
       "  --sklearn-color-unfitted-level-3: chocolate;\n",
       "  /* Definition of color scheme for fitted estimators */\n",
       "  --sklearn-color-fitted-level-0: #f0f8ff;\n",
       "  --sklearn-color-fitted-level-1: #d4ebff;\n",
       "  --sklearn-color-fitted-level-2: #b3dbfd;\n",
       "  --sklearn-color-fitted-level-3: cornflowerblue;\n",
       "\n",
       "  /* Specific color for light theme */\n",
       "  --sklearn-color-text-on-default-background: var(--sg-text-color, var(--theme-code-foreground, var(--jp-content-font-color1, black)));\n",
       "  --sklearn-color-background: var(--sg-background-color, var(--theme-background, var(--jp-layout-color0, white)));\n",
       "  --sklearn-color-border-box: var(--sg-text-color, var(--theme-code-foreground, var(--jp-content-font-color1, black)));\n",
       "  --sklearn-color-icon: #696969;\n",
       "\n",
       "  @media (prefers-color-scheme: dark) {\n",
       "    /* Redefinition of color scheme for dark theme */\n",
       "    --sklearn-color-text-on-default-background: var(--sg-text-color, var(--theme-code-foreground, var(--jp-content-font-color1, white)));\n",
       "    --sklearn-color-background: var(--sg-background-color, var(--theme-background, var(--jp-layout-color0, #111)));\n",
       "    --sklearn-color-border-box: var(--sg-text-color, var(--theme-code-foreground, var(--jp-content-font-color1, white)));\n",
       "    --sklearn-color-icon: #878787;\n",
       "  }\n",
       "}\n",
       "\n",
       "#sk-container-id-1 {\n",
       "  color: var(--sklearn-color-text);\n",
       "}\n",
       "\n",
       "#sk-container-id-1 pre {\n",
       "  padding: 0;\n",
       "}\n",
       "\n",
       "#sk-container-id-1 input.sk-hidden--visually {\n",
       "  border: 0;\n",
       "  clip: rect(1px 1px 1px 1px);\n",
       "  clip: rect(1px, 1px, 1px, 1px);\n",
       "  height: 1px;\n",
       "  margin: -1px;\n",
       "  overflow: hidden;\n",
       "  padding: 0;\n",
       "  position: absolute;\n",
       "  width: 1px;\n",
       "}\n",
       "\n",
       "#sk-container-id-1 div.sk-dashed-wrapped {\n",
       "  border: 1px dashed var(--sklearn-color-line);\n",
       "  margin: 0 0.4em 0.5em 0.4em;\n",
       "  box-sizing: border-box;\n",
       "  padding-bottom: 0.4em;\n",
       "  background-color: var(--sklearn-color-background);\n",
       "}\n",
       "\n",
       "#sk-container-id-1 div.sk-container {\n",
       "  /* jupyter's `normalize.less` sets `[hidden] { display: none; }`\n",
       "     but bootstrap.min.css set `[hidden] { display: none !important; }`\n",
       "     so we also need the `!important` here to be able to override the\n",
       "     default hidden behavior on the sphinx rendered scikit-learn.org.\n",
       "     See: https://github.com/scikit-learn/scikit-learn/issues/21755 */\n",
       "  display: inline-block !important;\n",
       "  position: relative;\n",
       "}\n",
       "\n",
       "#sk-container-id-1 div.sk-text-repr-fallback {\n",
       "  display: none;\n",
       "}\n",
       "\n",
       "div.sk-parallel-item,\n",
       "div.sk-serial,\n",
       "div.sk-item {\n",
       "  /* draw centered vertical line to link estimators */\n",
       "  background-image: linear-gradient(var(--sklearn-color-text-on-default-background), var(--sklearn-color-text-on-default-background));\n",
       "  background-size: 2px 100%;\n",
       "  background-repeat: no-repeat;\n",
       "  background-position: center center;\n",
       "}\n",
       "\n",
       "/* Parallel-specific style estimator block */\n",
       "\n",
       "#sk-container-id-1 div.sk-parallel-item::after {\n",
       "  content: \"\";\n",
       "  width: 100%;\n",
       "  border-bottom: 2px solid var(--sklearn-color-text-on-default-background);\n",
       "  flex-grow: 1;\n",
       "}\n",
       "\n",
       "#sk-container-id-1 div.sk-parallel {\n",
       "  display: flex;\n",
       "  align-items: stretch;\n",
       "  justify-content: center;\n",
       "  background-color: var(--sklearn-color-background);\n",
       "  position: relative;\n",
       "}\n",
       "\n",
       "#sk-container-id-1 div.sk-parallel-item {\n",
       "  display: flex;\n",
       "  flex-direction: column;\n",
       "}\n",
       "\n",
       "#sk-container-id-1 div.sk-parallel-item:first-child::after {\n",
       "  align-self: flex-end;\n",
       "  width: 50%;\n",
       "}\n",
       "\n",
       "#sk-container-id-1 div.sk-parallel-item:last-child::after {\n",
       "  align-self: flex-start;\n",
       "  width: 50%;\n",
       "}\n",
       "\n",
       "#sk-container-id-1 div.sk-parallel-item:only-child::after {\n",
       "  width: 0;\n",
       "}\n",
       "\n",
       "/* Serial-specific style estimator block */\n",
       "\n",
       "#sk-container-id-1 div.sk-serial {\n",
       "  display: flex;\n",
       "  flex-direction: column;\n",
       "  align-items: center;\n",
       "  background-color: var(--sklearn-color-background);\n",
       "  padding-right: 1em;\n",
       "  padding-left: 1em;\n",
       "}\n",
       "\n",
       "\n",
       "/* Toggleable style: style used for estimator/Pipeline/ColumnTransformer box that is\n",
       "clickable and can be expanded/collapsed.\n",
       "- Pipeline and ColumnTransformer use this feature and define the default style\n",
       "- Estimators will overwrite some part of the style using the `sk-estimator` class\n",
       "*/\n",
       "\n",
       "/* Pipeline and ColumnTransformer style (default) */\n",
       "\n",
       "#sk-container-id-1 div.sk-toggleable {\n",
       "  /* Default theme specific background. It is overwritten whether we have a\n",
       "  specific estimator or a Pipeline/ColumnTransformer */\n",
       "  background-color: var(--sklearn-color-background);\n",
       "}\n",
       "\n",
       "/* Toggleable label */\n",
       "#sk-container-id-1 label.sk-toggleable__label {\n",
       "  cursor: pointer;\n",
       "  display: flex;\n",
       "  width: 100%;\n",
       "  margin-bottom: 0;\n",
       "  padding: 0.5em;\n",
       "  box-sizing: border-box;\n",
       "  text-align: center;\n",
       "  align-items: start;\n",
       "  justify-content: space-between;\n",
       "  gap: 0.5em;\n",
       "}\n",
       "\n",
       "#sk-container-id-1 label.sk-toggleable__label .caption {\n",
       "  font-size: 0.6rem;\n",
       "  font-weight: lighter;\n",
       "  color: var(--sklearn-color-text-muted);\n",
       "}\n",
       "\n",
       "#sk-container-id-1 label.sk-toggleable__label-arrow:before {\n",
       "  /* Arrow on the left of the label */\n",
       "  content: \"▸\";\n",
       "  float: left;\n",
       "  margin-right: 0.25em;\n",
       "  color: var(--sklearn-color-icon);\n",
       "}\n",
       "\n",
       "#sk-container-id-1 label.sk-toggleable__label-arrow:hover:before {\n",
       "  color: var(--sklearn-color-text);\n",
       "}\n",
       "\n",
       "/* Toggleable content - dropdown */\n",
       "\n",
       "#sk-container-id-1 div.sk-toggleable__content {\n",
       "  max-height: 0;\n",
       "  max-width: 0;\n",
       "  overflow: hidden;\n",
       "  text-align: left;\n",
       "  /* unfitted */\n",
       "  background-color: var(--sklearn-color-unfitted-level-0);\n",
       "}\n",
       "\n",
       "#sk-container-id-1 div.sk-toggleable__content.fitted {\n",
       "  /* fitted */\n",
       "  background-color: var(--sklearn-color-fitted-level-0);\n",
       "}\n",
       "\n",
       "#sk-container-id-1 div.sk-toggleable__content pre {\n",
       "  margin: 0.2em;\n",
       "  border-radius: 0.25em;\n",
       "  color: var(--sklearn-color-text);\n",
       "  /* unfitted */\n",
       "  background-color: var(--sklearn-color-unfitted-level-0);\n",
       "}\n",
       "\n",
       "#sk-container-id-1 div.sk-toggleable__content.fitted pre {\n",
       "  /* unfitted */\n",
       "  background-color: var(--sklearn-color-fitted-level-0);\n",
       "}\n",
       "\n",
       "#sk-container-id-1 input.sk-toggleable__control:checked~div.sk-toggleable__content {\n",
       "  /* Expand drop-down */\n",
       "  max-height: 200px;\n",
       "  max-width: 100%;\n",
       "  overflow: auto;\n",
       "}\n",
       "\n",
       "#sk-container-id-1 input.sk-toggleable__control:checked~label.sk-toggleable__label-arrow:before {\n",
       "  content: \"▾\";\n",
       "}\n",
       "\n",
       "/* Pipeline/ColumnTransformer-specific style */\n",
       "\n",
       "#sk-container-id-1 div.sk-label input.sk-toggleable__control:checked~label.sk-toggleable__label {\n",
       "  color: var(--sklearn-color-text);\n",
       "  background-color: var(--sklearn-color-unfitted-level-2);\n",
       "}\n",
       "\n",
       "#sk-container-id-1 div.sk-label.fitted input.sk-toggleable__control:checked~label.sk-toggleable__label {\n",
       "  background-color: var(--sklearn-color-fitted-level-2);\n",
       "}\n",
       "\n",
       "/* Estimator-specific style */\n",
       "\n",
       "/* Colorize estimator box */\n",
       "#sk-container-id-1 div.sk-estimator input.sk-toggleable__control:checked~label.sk-toggleable__label {\n",
       "  /* unfitted */\n",
       "  background-color: var(--sklearn-color-unfitted-level-2);\n",
       "}\n",
       "\n",
       "#sk-container-id-1 div.sk-estimator.fitted input.sk-toggleable__control:checked~label.sk-toggleable__label {\n",
       "  /* fitted */\n",
       "  background-color: var(--sklearn-color-fitted-level-2);\n",
       "}\n",
       "\n",
       "#sk-container-id-1 div.sk-label label.sk-toggleable__label,\n",
       "#sk-container-id-1 div.sk-label label {\n",
       "  /* The background is the default theme color */\n",
       "  color: var(--sklearn-color-text-on-default-background);\n",
       "}\n",
       "\n",
       "/* On hover, darken the color of the background */\n",
       "#sk-container-id-1 div.sk-label:hover label.sk-toggleable__label {\n",
       "  color: var(--sklearn-color-text);\n",
       "  background-color: var(--sklearn-color-unfitted-level-2);\n",
       "}\n",
       "\n",
       "/* Label box, darken color on hover, fitted */\n",
       "#sk-container-id-1 div.sk-label.fitted:hover label.sk-toggleable__label.fitted {\n",
       "  color: var(--sklearn-color-text);\n",
       "  background-color: var(--sklearn-color-fitted-level-2);\n",
       "}\n",
       "\n",
       "/* Estimator label */\n",
       "\n",
       "#sk-container-id-1 div.sk-label label {\n",
       "  font-family: monospace;\n",
       "  font-weight: bold;\n",
       "  display: inline-block;\n",
       "  line-height: 1.2em;\n",
       "}\n",
       "\n",
       "#sk-container-id-1 div.sk-label-container {\n",
       "  text-align: center;\n",
       "}\n",
       "\n",
       "/* Estimator-specific */\n",
       "#sk-container-id-1 div.sk-estimator {\n",
       "  font-family: monospace;\n",
       "  border: 1px dotted var(--sklearn-color-border-box);\n",
       "  border-radius: 0.25em;\n",
       "  box-sizing: border-box;\n",
       "  margin-bottom: 0.5em;\n",
       "  /* unfitted */\n",
       "  background-color: var(--sklearn-color-unfitted-level-0);\n",
       "}\n",
       "\n",
       "#sk-container-id-1 div.sk-estimator.fitted {\n",
       "  /* fitted */\n",
       "  background-color: var(--sklearn-color-fitted-level-0);\n",
       "}\n",
       "\n",
       "/* on hover */\n",
       "#sk-container-id-1 div.sk-estimator:hover {\n",
       "  /* unfitted */\n",
       "  background-color: var(--sklearn-color-unfitted-level-2);\n",
       "}\n",
       "\n",
       "#sk-container-id-1 div.sk-estimator.fitted:hover {\n",
       "  /* fitted */\n",
       "  background-color: var(--sklearn-color-fitted-level-2);\n",
       "}\n",
       "\n",
       "/* Specification for estimator info (e.g. \"i\" and \"?\") */\n",
       "\n",
       "/* Common style for \"i\" and \"?\" */\n",
       "\n",
       ".sk-estimator-doc-link,\n",
       "a:link.sk-estimator-doc-link,\n",
       "a:visited.sk-estimator-doc-link {\n",
       "  float: right;\n",
       "  font-size: smaller;\n",
       "  line-height: 1em;\n",
       "  font-family: monospace;\n",
       "  background-color: var(--sklearn-color-background);\n",
       "  border-radius: 1em;\n",
       "  height: 1em;\n",
       "  width: 1em;\n",
       "  text-decoration: none !important;\n",
       "  margin-left: 0.5em;\n",
       "  text-align: center;\n",
       "  /* unfitted */\n",
       "  border: var(--sklearn-color-unfitted-level-1) 1pt solid;\n",
       "  color: var(--sklearn-color-unfitted-level-1);\n",
       "}\n",
       "\n",
       ".sk-estimator-doc-link.fitted,\n",
       "a:link.sk-estimator-doc-link.fitted,\n",
       "a:visited.sk-estimator-doc-link.fitted {\n",
       "  /* fitted */\n",
       "  border: var(--sklearn-color-fitted-level-1) 1pt solid;\n",
       "  color: var(--sklearn-color-fitted-level-1);\n",
       "}\n",
       "\n",
       "/* On hover */\n",
       "div.sk-estimator:hover .sk-estimator-doc-link:hover,\n",
       ".sk-estimator-doc-link:hover,\n",
       "div.sk-label-container:hover .sk-estimator-doc-link:hover,\n",
       ".sk-estimator-doc-link:hover {\n",
       "  /* unfitted */\n",
       "  background-color: var(--sklearn-color-unfitted-level-3);\n",
       "  color: var(--sklearn-color-background);\n",
       "  text-decoration: none;\n",
       "}\n",
       "\n",
       "div.sk-estimator.fitted:hover .sk-estimator-doc-link.fitted:hover,\n",
       ".sk-estimator-doc-link.fitted:hover,\n",
       "div.sk-label-container:hover .sk-estimator-doc-link.fitted:hover,\n",
       ".sk-estimator-doc-link.fitted:hover {\n",
       "  /* fitted */\n",
       "  background-color: var(--sklearn-color-fitted-level-3);\n",
       "  color: var(--sklearn-color-background);\n",
       "  text-decoration: none;\n",
       "}\n",
       "\n",
       "/* Span, style for the box shown on hovering the info icon */\n",
       ".sk-estimator-doc-link span {\n",
       "  display: none;\n",
       "  z-index: 9999;\n",
       "  position: relative;\n",
       "  font-weight: normal;\n",
       "  right: .2ex;\n",
       "  padding: .5ex;\n",
       "  margin: .5ex;\n",
       "  width: min-content;\n",
       "  min-width: 20ex;\n",
       "  max-width: 50ex;\n",
       "  color: var(--sklearn-color-text);\n",
       "  box-shadow: 2pt 2pt 4pt #999;\n",
       "  /* unfitted */\n",
       "  background: var(--sklearn-color-unfitted-level-0);\n",
       "  border: .5pt solid var(--sklearn-color-unfitted-level-3);\n",
       "}\n",
       "\n",
       ".sk-estimator-doc-link.fitted span {\n",
       "  /* fitted */\n",
       "  background: var(--sklearn-color-fitted-level-0);\n",
       "  border: var(--sklearn-color-fitted-level-3);\n",
       "}\n",
       "\n",
       ".sk-estimator-doc-link:hover span {\n",
       "  display: block;\n",
       "}\n",
       "\n",
       "/* \"?\"-specific style due to the `<a>` HTML tag */\n",
       "\n",
       "#sk-container-id-1 a.estimator_doc_link {\n",
       "  float: right;\n",
       "  font-size: 1rem;\n",
       "  line-height: 1em;\n",
       "  font-family: monospace;\n",
       "  background-color: var(--sklearn-color-background);\n",
       "  border-radius: 1rem;\n",
       "  height: 1rem;\n",
       "  width: 1rem;\n",
       "  text-decoration: none;\n",
       "  /* unfitted */\n",
       "  color: var(--sklearn-color-unfitted-level-1);\n",
       "  border: var(--sklearn-color-unfitted-level-1) 1pt solid;\n",
       "}\n",
       "\n",
       "#sk-container-id-1 a.estimator_doc_link.fitted {\n",
       "  /* fitted */\n",
       "  border: var(--sklearn-color-fitted-level-1) 1pt solid;\n",
       "  color: var(--sklearn-color-fitted-level-1);\n",
       "}\n",
       "\n",
       "/* On hover */\n",
       "#sk-container-id-1 a.estimator_doc_link:hover {\n",
       "  /* unfitted */\n",
       "  background-color: var(--sklearn-color-unfitted-level-3);\n",
       "  color: var(--sklearn-color-background);\n",
       "  text-decoration: none;\n",
       "}\n",
       "\n",
       "#sk-container-id-1 a.estimator_doc_link.fitted:hover {\n",
       "  /* fitted */\n",
       "  background-color: var(--sklearn-color-fitted-level-3);\n",
       "}\n",
       "</style><div id=\"sk-container-id-1\" class=\"sk-top-container\"><div class=\"sk-text-repr-fallback\"><pre>LogisticRegression()</pre><b>In a Jupyter environment, please rerun this cell to show the HTML representation or trust the notebook. <br />On GitHub, the HTML representation is unable to render, please try loading this page with nbviewer.org.</b></div><div class=\"sk-container\" hidden><div class=\"sk-item\"><div class=\"sk-estimator fitted sk-toggleable\"><input class=\"sk-toggleable__control sk-hidden--visually\" id=\"sk-estimator-id-1\" type=\"checkbox\" checked><label for=\"sk-estimator-id-1\" class=\"sk-toggleable__label fitted sk-toggleable__label-arrow\"><div><div>LogisticRegression</div></div><div><a class=\"sk-estimator-doc-link fitted\" rel=\"noreferrer\" target=\"_blank\" href=\"https://scikit-learn.org/1.6/modules/generated/sklearn.linear_model.LogisticRegression.html\">?<span>Documentation for LogisticRegression</span></a><span class=\"sk-estimator-doc-link fitted\">i<span>Fitted</span></span></div></label><div class=\"sk-toggleable__content fitted\"><pre>LogisticRegression()</pre></div> </div></div></div></div>"
      ],
      "text/plain": [
       "LogisticRegression()"
      ]
     },
     "execution_count": 29,
     "metadata": {},
     "output_type": "execute_result"
    }
   ],
   "source": [
    "model.fit(X_train,y_train) "
   ]
  },
  {
   "cell_type": "code",
   "execution_count": 30,
   "metadata": {
    "id": "f-F9NG4Qmyxw"
   },
   "outputs": [],
   "source": [
    "y_pred = model.predict(X_test) "
   ]
  },
  {
   "cell_type": "code",
   "execution_count": 31,
   "metadata": {
    "colab": {
     "base_uri": "https://localhost:8080/"
    },
    "collapsed": true,
    "id": "fKJYXdvqnC5r",
    "jupyter": {
     "outputs_hidden": true
    },
    "outputId": "0bbecda1-8bb5-4da8-864f-ce8aac45ae07"
   },
   "outputs": [
    {
     "data": {
      "text/plain": [
       "0.9759615384615384"
      ]
     },
     "execution_count": 31,
     "metadata": {},
     "output_type": "execute_result"
    }
   ],
   "source": [
    "accuracy_score(y_test, y_pred)\n"
   ]
  },
  {
   "cell_type": "code",
   "execution_count": 32,
   "metadata": {
    "id": "KuozYIVuqGaD"
   },
   "outputs": [],
   "source": [
    "y_pred1 = model.predict(X_train) "
   ]
  },
  {
   "cell_type": "code",
   "execution_count": 33,
   "metadata": {
    "colab": {
     "base_uri": "https://localhost:8080/"
    },
    "id": "SSCfM2BRp5vR",
    "outputId": "d556ba1c-e0cb-48c2-c6f7-b9635d7350e1"
   },
   "outputs": [
    {
     "data": {
      "text/plain": [
       "0.9862379807692307"
      ]
     },
     "execution_count": 33,
     "metadata": {},
     "output_type": "execute_result"
    }
   ],
   "source": [
    "accuracy_score(y_train, y_pred1)"
   ]
  },
  {
   "cell_type": "code",
   "execution_count": 34,
   "metadata": {},
   "outputs": [
    {
     "name": "stdout",
     "output_type": "stream",
     "text": [
      "Fake News\n"
     ]
    }
   ],
   "source": [
    "input_data=X_test[10] \n",
    "prediction=model.predict(input_data) \n",
    "if prediction[0]==1 : \n",
    "    print(\"Fake News\") \n",
    "else : \n",
    "    print(\"Real News\") \n",
    "    \n",
    "    "
   ]
  },
  {
   "cell_type": "code",
   "execution_count": null,
   "metadata": {},
   "outputs": [],
   "source": [
    " "
   ]
  }
 ],
 "metadata": {
  "colab": {
   "provenance": []
  },
  "kernelspec": {
   "display_name": "Python 3 (ipykernel)",
   "language": "python",
   "name": "python3"
  },
  "language_info": {
   "codemirror_mode": {
    "name": "ipython",
    "version": 3
   },
   "file_extension": ".py",
   "mimetype": "text/x-python",
   "name": "python",
   "nbconvert_exporter": "python",
   "pygments_lexer": "ipython3",
   "version": "3.12.5"
  }
 },
 "nbformat": 4,
 "nbformat_minor": 4
}
